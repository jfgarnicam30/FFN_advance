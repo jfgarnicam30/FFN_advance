{
 "cells": [
  {
   "cell_type": "markdown",
   "metadata": {},
   "source": [
    "# Create HDF5 files"
   ]
  },
  {
   "cell_type": "markdown",
   "metadata": {},
   "source": [
    "The scripts below create .hdf5 files from several input files."
   ]
  },
  {
   "cell_type": "markdown",
   "metadata": {},
   "source": [
    "##  To create a hdf5 file"
   ]
  },
  {
   "cell_type": "code",
   "execution_count": null,
   "metadata": {},
   "outputs": [],
   "source": [
    "import h5py\n",
    "import numpy as np\n",
    "import imageio \n",
    "\n",
    "\n",
    "path = '/home/user1/Desktop/full_stack/microglia4_stack4_325_2048x2048/'\n",
    "file_name = 'microglia4_stack4_325_2048x2048_grayscale_maps.hdf5'\n",
    "\n",
    "\n",
    "png_files = glob.glob(path + '*.png')\n",
    "\n",
    "print(\"ck 2\")\n",
    "\n",
    "png_files.sort()\n",
    "print(\"ck 3\")\n",
    "images = [imageio.imread(i) for i in png_files] # loading all the images in the directory\n",
    "print(\"ck 4\")\n",
    "#print(images)\n",
    "print(\"ck 5\")\n",
    "\n",
    "images = np.array(images) #images have to be numpy arrays\n",
    "print(\"ck 6\")\n",
    "\n",
    "with h5py.File(path + file_name, 'w') as f:\n",
    "  f.create_dataset('raw', data=images, compression='gzip')\n",
    "\n",
    "print(\"created file!\")\n",
    "\n"
   ]
  },
  {
   "cell_type": "markdown",
   "metadata": {},
   "source": [
    "## To create a hdf5 file from a directory with png images \n"
   ]
  },
  {
   "cell_type": "code",
   "execution_count": null,
   "metadata": {},
   "outputs": [],
   "source": [
    "import h5py\n",
    "import numpy as np\n",
    "import imageio \n",
    "\n",
    "\n",
    "path = '/home/user1/Desktop/Masks/tiffs/Full_Morfologies_copies/microglia4_groundtruth/training_data'\n",
    "size = 150\n",
    "file_name = '/microglia4_2048x2048_' + str(size) + '_groundtruth_stack_'\n",
    "image_number = 1200\n",
    "\n",
    "png_files = glob.glob(path + '/' + '*.png')\n",
    "\n",
    "print(\"ck 2\")\n",
    "\n",
    "png_files.sort()\n",
    "print(\"ck 3\")\n",
    "\n",
    "images = imageio.imread(png_files[0])\n",
    "b = np.array(images)\n",
    "\n",
    "#print(b)\n",
    "\n",
    "y=1 # y is the image counter\n",
    "stack=1\n",
    "flag=True\n",
    "for i in png_files:\n",
    "    if y==1:\n",
    "        y=y+1\n",
    "        b = imageio.imread(i)\n",
    "        b = np.array(images)\n",
    "        continue\n",
    "    images = imageio.imread(i)\n",
    "    images = np.array(images)\n",
    "    b=np.dstack((b, images))\n",
    "    #print (y)\n",
    "    if y==size:\n",
    "        with h5py.File(path + file_name  + str(stack) + '.hdf5', 'w') as f:\n",
    "            f.create_dataset('stack', data=b, compression='gzip')\n",
    "            print(\"stack no: \" + str(stack))\n",
    "            stack = stack+1\n",
    "            \n",
    "            if y*(stack-1)==image_number:\n",
    "                break\n",
    "            \n",
    "            y=0\n",
    "    \n",
    "    y=y+1\n",
    "\n",
    "#images = [imageio.imread(i) for i in png_files]\n",
    "print(\"ck 4\")\n",
    "print(b.shape)\n",
    "print(\"ck 5\")\n",
    "\n",
    "\n"
   ]
  },
  {
   "cell_type": "markdown",
   "metadata": {},
   "source": [
    "## To check the shape of a hdf5 file\n",
    "It is very important check that files used as groundtruth and grayscale-maps have the same shape"
   ]
  },
  {
   "cell_type": "code",
   "execution_count": null,
   "metadata": {},
   "outputs": [],
   "source": [
    "\n",
    "import h5py\n",
    "import numpy as np\n",
    "import imageio \n",
    "import matplotlib.pyplot as plt\n",
    "import matplotlib.image as mpimg\n",
    "\n",
    "\n",
    "images_vol = imageio.volread('/home/user1/Desktop/Masks/tiffs/Full_Morfologies_copies/microglia4_groundtruth/Microglia4.tif','tif')\n",
    "print(images_vol.shape)\n",
    "print(\"loaded\")"
   ]
  },
  {
   "cell_type": "markdown",
   "metadata": {},
   "source": [
    "## To display an image of a .hdf5 file"
   ]
  },
  {
   "cell_type": "code",
   "execution_count": 21,
   "metadata": {},
   "outputs": [
    {
     "name": "stdout",
     "output_type": "stream",
     "text": [
      "loaded\n",
      "['stack']\n",
      "hdf5 shape = (500, 500, 500)\n",
      "uint8\n",
      "done\n"
     ]
    },
    {
     "data": {
      "image/png": "[encoded data removed]",
      "text/plain": [
       "<Figure size 432x288 with 1 Axes>"
      ]
     },
     "metadata": {
      "needs_background": "light"
     },
     "output_type": "display_data"
    }
   ],
   "source": [
    "\n",
    "\n",
    "import h5py\n",
    "import numpy as np\n",
    "import imageio \n",
    "import matplotlib.pyplot as plt\n",
    "import matplotlib.image as mpimg\n",
    "\n",
    "\n",
    "path = '/home/user1/Desktop/full_stack/all_labels_500x500x500_cubes/groundtruth_uint8/'\n",
    "file_name = 'all_labels_groundtruth_1_6_6_'\n",
    "\n",
    "h = h5py.File(path + file_name + '.hdf5', 'r')\n",
    "print('loaded')\n",
    "print(list(h.keys()))\n",
    "dset = h['stack']\n",
    "\n",
    "    \n",
    "print('hdf5 shape = ' + str(dset.shape))\n",
    "\n",
    "single_image = dset[470,:,:]\n",
    "print(single_image.dtype)\n",
    "imgplot = plt.imshow(single_image, cmap='gray', vmin=0, vmax=255 )\n",
    "    \n",
    "print(\"done\")"
   ]
  },
  {
   "cell_type": "markdown",
   "metadata": {},
   "source": [
    "## To create several hdf5 files from a stack of images \n",
    "The masks of manually segmentation from Fiji are normally stacks of images which format is .tif. This script allows to create several .hdf5 files from a single .tif stack.\n",
    "\n",
    "**Note:** The background of the groundtruth files must be white whole the segmentation musb be plotted in grayscale."
   ]
  },
  {
   "cell_type": "code",
   "execution_count": null,
   "metadata": {},
   "outputs": [],
   "source": [
    "\n",
    "\n",
    "import h5py\n",
    "import numpy as np\n",
    "import imageio \n",
    "import matplotlib.pyplot as plt\n",
    "import matplotlib.image as mpimg\n",
    "import cv2\n",
    "\n",
    "input_path = '/home/user1/Desktop/full_stack'\n",
    "file_name = 'Allabels.tif'\n",
    "\n",
    "data_set = imageio.volread( input_path + '/' + file_name ,'tif')\n",
    "\n",
    "output_path = '/home/user1/Desktop/full_stack/all_labels_500x500x500_cubes/groundtruth/'\n",
    "\n",
    "size=500\n",
    "layers=3   #3\n",
    "raws=8     #8\n",
    "columns=8  #8\n",
    "\n",
    "for l in range(layers):\n",
    "    for i in range(raws):\n",
    "        for j in range(columns):\n",
    "            current_cube = data_set[l*size:l*size+size, i*size:i*size+size , j*size:j*size+size] #images [ y axis ] [ x axis ] limit\n",
    "            \n",
    "            #inverting black and white pixels\n",
    "            for k in range(len(current_cube)):\n",
    "                (thresh, current_cube[k] ) = cv2.threshold(current_cube[k], 0, 255, cv2.THRESH_BINARY_INV)\n",
    "                \n",
    "            file_name = 'all_labels_groundtruth_' + str(l) + '_' + str(i) + '_' + str(j) + '_' \n",
    "            with h5py.File(output_path + file_name  +  '.hdf5', 'w') as g:\n",
    "                g.create_dataset('stack', data=current_cube, compression='gzip')\n",
    "            \n",
    "print('cubes created')\n",
    "    \n"
   ]
  },
  {
   "cell_type": "markdown",
   "metadata": {},
   "source": [
    "## To create several .hdf5 files from a bigger hdf5 file "
   ]
  },
  {
   "cell_type": "code",
   "execution_count": 6,
   "metadata": {},
   "outputs": [
    {
     "name": "stdout",
     "output_type": "stream",
     "text": [
      "cubes created\n"
     ]
    }
   ],
   "source": [
    "\n",
    "\n",
    "import h5py\n",
    "import numpy as np\n",
    "import imageio \n",
    "import matplotlib.pyplot as plt\n",
    "import matplotlib.image as mpimg\n",
    "\n",
    "\n",
    "input_path = '/home/user1/Desktop/full_stack/all_labels_500x500x500_cubes/groundtruth/'\n",
    "file_name = 'all_labels_groundtruth_'\n",
    "\n",
    "\n",
    "output_path = '/home/user1/Desktop/full_stack/all_labels_500x500x500_cubes/groundtruth_uint8/'\n",
    "\n",
    "size=500\n",
    "layers=3   #3\n",
    "raws=8     #8\n",
    "columns=8  #8\n",
    "\n",
    "for l in range(layers):\n",
    "    for i in range(raws):\n",
    "        for j in range(columns):\n",
    "            line = str(l) + '_' + str(i) + '_' + str(j) + '_'\n",
    "            h = h5py.File(input_path + file_name + line + '.hdf5', 'r')\n",
    "            dset = h['stack']\n",
    "            dset = np.uint8(dset)\n",
    "            with h5py.File(output_path + file_name  + line + '.hdf5', 'w') as g:\n",
    "                g.create_dataset('stack', data=dset, compression='gzip')\n",
    "            \n",
    "print('cubes created')"
   ]
  },
  {
   "cell_type": "code",
   "execution_count": null,
   "metadata": {},
   "outputs": [],
   "source": []
  },
  {
   "cell_type": "code",
   "execution_count": null,
   "metadata": {},
   "outputs": [],
   "source": []
  }
 ],
 "metadata": {
  "kernelspec": {
   "display_name": "Python 3",
   "language": "python",
   "name": "python3"
  },
  "language_info": {
   "codemirror_mode": {
    "name": "ipython",
    "version": 3
   },
   "file_extension": ".py",
   "mimetype": "text/x-python",
   "name": "python",
   "nbconvert_exporter": "python",
   "pygments_lexer": "ipython3",
   "version": "3.6.6"
  }
 },
 "nbformat": 4,
 "nbformat_minor": 2
}
