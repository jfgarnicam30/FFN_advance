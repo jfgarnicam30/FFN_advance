{
 "cells": [
  {
   "cell_type": "markdown",
   "metadata": {},
   "source": [
    "# Scripts"
   ]
  },
  {
   "cell_type": "markdown",
   "metadata": {},
   "source": [
    "We can devide the FFN training process in three stages, the first two are in charge of generating training coordinate files for a labeled dataset stored on HDF5 files. These are compute_partitions.py, build_coordidates.py, stage_1 and stage_ 2, respectively. Stage_3 is the training itself.\n",
    "\n",
    "Next scripts launch the scripts related to the different stages. A string called \"command\" is executed by the shell. This command change in each iteration according three variables l,i and j. These three numbers represent a coordinate of each subvolume in our data_set. Our data_set was split in 8x8x3 = 192 subvolumes. Each one has 500 images, each image is 500x500 pixels. So, each subvolume is 500x500x500. l is the layer, i is the row and j is the column. \n",
    "\n",
    "The objective with these scripts is launching the stage_1 _2 and _3 over several subvolumes automatically. These scripts can be run from different directories in order to run the full pipeline in a \"parallel\" manner."
   ]
  },
  {
   "cell_type": "markdown",
   "metadata": {},
   "source": [
    "# Stage_1: Compute partitions"
   ]
  },
  {
   "cell_type": "code",
   "execution_count": null,
   "metadata": {},
   "outputs": [],
   "source": [
    "print(\"Compute starting\" + ' \\n' + ' \\n')\n",
    "\n",
    "layer = 2\n",
    "raw = 3\n",
    "column = 3\n",
    "\n",
    "path = \"/ibex/scratch/garnicj/parallel4\"\n",
    "    \n",
    "for i in range(3):\n",
    "        for j in range(3):\n",
    "                line = str(layer) + '_' + str(raw+i) + '_' + str(column+j) + '_' \n",
    "                print(\"working on: \" + line + ' \\n' + ' \\n')\n",
    "                command =  \"/home/garnicj/ksl-fernando/fernando_env/bin/python -u \" + path + \"/ffn-master/compute_partitions.py \\\n",
    "--input_volume \" + path + \"/training_microglia4/groundtruth/groundtruth_\" + line + \".hdf5:stack \\\n",
    "--output_volume \" + path + \"/training_microglia4/af/af_\" + line +\".h5:af \\\n",
    "--thresholds 0.025,0.05,0.075,0.1,0.2,0.3,0.4,0.5,0.6,0.7,0.8,0.9 \\\n",
    "--lom_radius 24,24,24 \\\n",
    "--min_size 10000\""
   ]
  },
  {
   "cell_type": "markdown",
   "metadata": {},
   "source": [
    "# Stage_2: Build Coordinates"
   ]
  },
  {
   "cell_type": "code",
   "execution_count": null,
   "metadata": {},
   "outputs": [],
   "source": [
    "print(' \\n' + ' \\n' + \"Build coordinates starting\" + ' \\n' + ' \\n')\n",
    "\n",
    "layer = 0\n",
    "raw = 3\n",
    "column = 3\n",
    "\n",
    "path = \"/ibex/scratch/garnicj/parallel2\"\n",
    "    \n",
    "for i in range(3):\n",
    "        for j in range(3):\n",
    "                line = str(layer) + '_' + str(raw+i) + '_' + str(column+j) + '_' \n",
    "                print(\"working on: \" + line + ' \\n' + ' \\n')\n",
    "                command = (\"/home/garnicj/ksl-fernando/fernando_env/bin/python -u \" + path + \"/ffn-master/build_coordinates.py \\\n",
    "--partition_volumes validation1:\" + path + \"/training_microglia4/af_\" + line +\".h5:af \\\n",
    "--coordinate_output \" + path + \"/training_microglia4/tf_record/tf_record_\" + line +\" \\\n",
    "--margin 24,24,24\")"
   ]
  },
  {
   "cell_type": "markdown",
   "metadata": {},
   "source": [
    "# Stage_3: Training "
   ]
  },
  {
   "cell_type": "code",
   "execution_count": 3,
   "metadata": {},
   "outputs": [
    {
     "name": "stdout",
     "output_type": "stream",
     "text": [
      " \n",
      " \n",
      "Training starting \n",
      " \n",
      "\n",
      "working on: 0_3_3_ \n",
      " \n",
      "\n",
      "working on: 0_3_4_ \n",
      " \n",
      "\n",
      "working on: 0_3_5_ \n",
      " \n",
      "\n",
      "working on: 0_4_3_ \n",
      " \n",
      "\n",
      "working on: 0_4_4_ \n",
      " \n",
      "\n",
      "working on: 0_4_5_ \n",
      " \n",
      "\n",
      "working on: 0_5_3_ \n",
      " \n",
      "\n",
      "working on: 0_5_4_ \n",
      " \n",
      "\n",
      "working on: 0_5_5_ \n",
      " \n",
      "\n",
      "working on: 1_3_3_ \n",
      " \n",
      "\n",
      "working on: 1_3_4_ \n",
      " \n",
      "\n",
      "working on: 1_3_5_ \n",
      " \n",
      "\n",
      "working on: 1_4_3_ \n",
      " \n",
      "\n",
      "working on: 1_4_4_ \n",
      " \n",
      "\n",
      "working on: 1_4_5_ \n",
      " \n",
      "\n",
      "working on: 1_5_3_ \n",
      " \n",
      "\n",
      "working on: 1_5_4_ \n",
      " \n",
      "\n",
      "working on: 1_5_5_ \n",
      " \n",
      "\n",
      "working on: 2_3_3_ \n",
      " \n",
      "\n",
      "working on: 2_3_4_ \n",
      " \n",
      "\n",
      "working on: 2_3_5_ \n",
      " \n",
      "\n",
      "working on: 2_4_3_ \n",
      " \n",
      "\n",
      "working on: 2_4_4_ \n",
      " \n",
      "\n",
      "working on: 2_4_5_ \n",
      " \n",
      "\n",
      "working on: 2_5_3_ \n",
      " \n",
      "\n",
      "working on: 2_5_4_ \n",
      " \n",
      "\n",
      "working on: 2_5_5_ \n",
      " \n",
      "\n"
     ]
    }
   ],
   "source": [
    "import os\n",
    "\n",
    "print(' \\n' + ' \\n' + \"Training starting\" + ' \\n' + ' \\n')\n",
    "\n",
    "layer = 3\n",
    "raw = 3\n",
    "column = 3\n",
    "\n",
    "path_constant = \"/ibex/scratch/garnicj/parallel2\"\n",
    "path = \"/ibex/scratch/garnicj/parallel2\"\n",
    "\n",
    "model_args = \"\"\n",
    "\n",
    "for k in range(layer):\n",
    "    if(k==0): \n",
    "        path = \"/ibex/scratch/garnicj/parallel2\"\n",
    "    if(k==1): \n",
    "        path = \"/ibex/scratch/garnicj/parallel3\"\n",
    "    if(k==2): \n",
    "        path = \"/ibex/scratch/garnicj/parallel4\"\n",
    "    for i in range(raw):\n",
    "            for j in range(column):\n",
    "                    line = str(k) + '_' + str(raw+i) + '_' + str(column+j) + '_' \n",
    "                    print(\"working on: \" + line + ' \\n' + ' \\n')\n",
    "                    command = ( \"/home/garnicj/ksl-fernando/fernando_env/bin/python -u \" + path_constant + \"/ffn-master/train.py \\\\\\\n",
    "    --train_coords \" + path + \"/training_microglia4/tf_record/tf_record_\" + line +\" \\\\\\\n",
    "    --data_volumes validation1:\" + path + \"/training_microglia4/grayscale_maps/grayscale_maps_\" + line +\".hdf5:raw \\\\\\\n",
    "    --label_volumes validation1:\" + path + \"/training_microglia4/groundtruth/groundtruth_\" + line +\".hdf5:stack \\\\\\\n",
    "    --model_name convstack_3d.ConvStack3DFFNModel \\\\\\\n",
    "    --model_args \\\"{\\\\\\\"depth\\\\\\\": 12, \\\\\\\"fov_size\\\\\\\": [33, 33, 33], \\\\\\\"deltas\\\\\\\": [8, 8, 8]}\\\" \\\\\\\n",
    "    --image_mean  128 \\\\\\\n",
    "    --image_stddev 33\") \n",
    "                    #print(command)  "
   ]
  },
  {
   "cell_type": "code",
   "execution_count": null,
   "metadata": {},
   "outputs": [],
   "source": []
  },
  {
   "cell_type": "code",
   "execution_count": null,
   "metadata": {},
   "outputs": [],
   "source": []
  }
 ],
 "metadata": {
  "kernelspec": {
   "display_name": "Python 3",
   "language": "python",
   "name": "python3"
  },
  "language_info": {
   "codemirror_mode": {
    "name": "ipython",
    "version": 3
   },
   "file_extension": ".py",
   "mimetype": "text/x-python",
   "name": "python",
   "nbconvert_exporter": "python",
   "pygments_lexer": "ipython3",
   "version": "3.6.6"
  }
 },
 "nbformat": 4,
 "nbformat_minor": 2
}
